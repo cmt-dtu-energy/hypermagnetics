{
 "cells": [
  {
   "cell_type": "code",
   "execution_count": 6,
   "metadata": {},
   "outputs": [
    {
     "name": "stdout",
     "output_type": "stream",
     "text": [
      "2.4000000035\n",
      "0.0666666667\n",
      "0\n",
      "Skipped files: 2390 / 7170\n"
     ]
    }
   ],
   "source": [
    "from pathlib import Path\n",
    "import matplotlib.pyplot as plt\n",
    "from matplotlib.patches import Rectangle\n",
    "\n",
    "max_figures = 0\n",
    "path = Path(\"/home/spol/Documents/repos/hypermagnetics/\")\n",
    "folder = path / \"data\" / \"Meshes_complete_2D\"\n",
    "min_size = 3e-7\n",
    "max_size = 0\n",
    "max_len = 0\n",
    "\n",
    "cnt = 0\n",
    "cnt_files = 0\n",
    "for filepath in list(folder.iterdir()):\n",
    "    cnt_files += 1\n",
    "    skip_file = False\n",
    "    if cnt < max_figures:\n",
    "        fig, ax = plt.subplots(figsize=(4, 4))\n",
    "    # print(filepath)\n",
    "\n",
    "    with open(filepath, \"r\") as file:\n",
    "        # file_len = len(file.readlines()) - 1\n",
    "        for i, line in enumerate(file):\n",
    "            if i == 0:\n",
    "                continue\n",
    "            columns = line.split()\n",
    "            r = columns[:3]\n",
    "            size = columns[3:]\n",
    "\n",
    "            # Convert the coordinates and size to integers\n",
    "            r = [float(coord) for coord in r]\n",
    "            size = [float(dim) for dim in size]\n",
    "\n",
    "            if size[0] < 1.2e-8 or size[0] > 4.8e-8:\n",
    "                skip_file = True\n",
    "\n",
    "            for side in size[:2]:\n",
    "                if side < min_size:\n",
    "                    min_size = side\n",
    "\n",
    "                if (r[1] + size[1]/2) > max_size:\n",
    "                    max_size = r[1] + size[1]/2\n",
    "\n",
    "            # if cnt > max_figures:\n",
    "            #     continue\n",
    "\n",
    "            # # Plot the rectangle\n",
    "            # if cnt < max_figures:\n",
    "            #     rect = Rectangle((r[0] - size[0]/2, r[1] - size[1]/2), size[0], size[1], fill=False, edgecolor=\"red\")\n",
    "            #     ax.add_patch(rect)\n",
    "\n",
    "    # if file_len > max_len and not skip_file:\n",
    "    #     max_len = file_len\n",
    "\n",
    "    if skip_file:\n",
    "        cnt += 1\n",
    "\n",
    "\n",
    "    # Show the plot\n",
    "    if cnt < max_figures:\n",
    "        plt.xlim(0, 3e-7)\n",
    "        plt.ylim(0, 3e-7)\n",
    "        plt.show()\n",
    "\n",
    "print(max_size * 1e7)\n",
    "print(min_size * 1e7)\n",
    "print(max_len)\n",
    "print(f\"Skipped files: {cnt} / {cnt_files}\")"
   ]
  }
 ],
 "metadata": {
  "kernelspec": {
   "display_name": "mt-hm",
   "language": "python",
   "name": "python3"
  },
  "language_info": {
   "codemirror_mode": {
    "name": "ipython",
    "version": 3
   },
   "file_extension": ".py",
   "mimetype": "text/x-python",
   "name": "python",
   "nbconvert_exporter": "python",
   "pygments_lexer": "ipython3",
   "version": "3.11.9"
  }
 },
 "nbformat": 4,
 "nbformat_minor": 2
}
