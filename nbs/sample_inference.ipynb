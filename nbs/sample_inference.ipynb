{
 "cells": [
  {
   "cell_type": "markdown",
   "metadata": {},
   "source": [
    "# Fourier construction of single dipole sources\n",
    "\n",
    "This notebook demonstrates that how the dipole field can be constructed with good accuracy from the Fourier model. It does not attempt to learn any source dependence; only the spatial position."
   ]
  },
  {
   "cell_type": "code",
   "execution_count": null,
   "metadata": {},
   "outputs": [],
   "source": [
    "import jax.random as jr\n",
    "import jax\n",
    "import jax.numpy as jnp\n",
    "import optax\n",
    "from hypermagnetics import plots\n",
    "from hypermagnetics.sources import configure\n",
    "from hypermagnetics.models.hyper_fourier import FourierModel\n",
    "from hypermagnetics.runner import fit\n",
    "import matplotlib.pyplot as plt\n",
    "import scienceplots  # noqa\n",
    "\n",
    "plt.style.use([\"science\", \"ieee\"])"
   ]
  },
  {
   "cell_type": "markdown",
   "metadata": {},
   "source": [
    "## I. Target definition and data generation\n",
    "\n",
    "We use the typical form of the field from a single source. The dipole field at $\\mathbf{r}$ from a source with moment $\\mathbf{m}_i$ and positions $\\mathbf{r}_0$ is computed via the scalar potential as $${\\mu_0}\\mathbf{H}_{\\odot}(\\mathbf{r}) = -\\nabla \\underbrace{\\overbrace{\\frac{1}{2\\pi |\\mathbf{r}-\\mathbf{r_0}|}}^{\\text{Surface of 2D ball}}\\overbrace{\\frac{\\mathbf{m}_0\\cdot(\\mathbf{r}-\\mathbf{r_0})}{|\\mathbf{r}-\\mathbf{r_0}|}}^{\\text{dipole term}}}_{\\text{scalar potential }\\psi_i}$$. \n",
    "\n",
    "We'll use a single source example on a grid for training and generalise to non-grid locations."
   ]
  },
  {
   "cell_type": "code",
   "execution_count": null,
   "metadata": {},
   "outputs": [],
   "source": [
    "source_config = {\n",
    "    \"n_samples\": 1,\n",
    "    \"lim\": 2,\n",
    "    \"res\": 50,\n",
    "}\n",
    "source = configure(**source_config, n_sources=1, key=jr.PRNGKey(40))"
   ]
  },
  {
   "cell_type": "code",
   "execution_count": null,
   "metadata": {},
   "outputs": [],
   "source": [
    "class FourierDecomposition(FourierModel):\n",
    "    hypermodel: jax.Array\n",
    "    lfmin: jax.Array\n",
    "    lfmax: jax.Array\n",
    "    bias: jax.Array\n",
    "    order: int\n",
    "\n",
    "    def __init__(self, order):\n",
    "        self.order = order\n",
    "        self.lfmin = jnp.ones(1) * -order / 2\n",
    "        self.lfmax = jnp.ones(1)\n",
    "        self.bias = jnp.ones(1)\n",
    "        self.hypermodel = jnp.ones((4 * order**2))  # No hypermodel, just a set of weights\n",
    "\n",
    "    def prepare_weights(self, sources):\n",
    "        # Weights don't depend on source information; just fit them.\n",
    "        return self.hypermodel, self.bias.squeeze()"
   ]
  },
  {
   "cell_type": "code",
   "execution_count": null,
   "metadata": {},
   "outputs": [],
   "source": [
    "model = FourierDecomposition(order=25)\n",
    "plots(source, model)"
   ]
  },
  {
   "cell_type": "code",
   "execution_count": null,
   "metadata": {},
   "outputs": [],
   "source": [
    "schedule = [\n",
    "    {\"log_learning_rate\": -2.0, \"epochs\": 5000},\n",
    "    {\"log_learning_rate\": -3.0, \"epochs\": 5000},\n",
    "    {\"log_learning_rate\": -4.0, \"epochs\": 5000}\n",
    "]\n",
    "\n",
    "for trainer_config in schedule:\n",
    "    learning_rate = 10 ** trainer_config[\"log_learning_rate\"]\n",
    "    optim = optax.adamw(learning_rate, b1=0.95)\n",
    "    model = fit(trainer_config, optim, model, source, source, every=100)"
   ]
  },
  {
   "cell_type": "code",
   "execution_count": null,
   "metadata": {},
   "outputs": [],
   "source": [
    "print(model.lfmin, model.lfmax)\n",
    "plots(source, model=model)"
   ]
  }
 ],
 "metadata": {
  "kernelspec": {
   "display_name": "magstatics-learning-arm",
   "language": "python",
   "name": "python3"
  },
  "language_info": {
   "codemirror_mode": {
    "name": "ipython",
    "version": 3
   },
   "file_extension": ".py",
   "mimetype": "text/x-python",
   "name": "python",
   "nbconvert_exporter": "python",
   "pygments_lexer": "ipython3",
   "version": "3.9.18"
  },
  "orig_nbformat": 4
 },
 "nbformat": 4,
 "nbformat_minor": 2
}
