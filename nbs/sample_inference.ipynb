{
 "cells": [
  {
   "cell_type": "markdown",
   "metadata": {},
   "source": [
    "# Fourier construction of single dipole sources\n",
    "\n",
    "This notebook demonstrates that how the dipole field can be constructed with good accuracy from the Fourier model. It does not attempt to learn any source dependence; only the spatial position."
   ]
  },
  {
   "cell_type": "code",
   "execution_count": 1,
   "metadata": {},
   "outputs": [
    {
     "name": "stderr",
     "output_type": "stream",
     "text": [
      "Platform 'METAL' is experimental and not all JAX functionality may be correctly supported!\n",
      "2024-01-16 09:58:16.903122: W pjrt_plugin/src/mps_client.cc:563] WARNING: JAX Apple GPU support is experimental and not all JAX functionality is correctly supported!\n"
     ]
    },
    {
     "name": "stdout",
     "output_type": "stream",
     "text": [
      "Metal device set to: Apple M2 Ultra\n",
      "\n",
      "systemMemory: 192.00 GB\n",
      "maxCacheSize: 72.00 GB\n",
      "\n"
     ]
    }
   ],
   "source": [
    "import jax.random as jr\n",
    "import jax\n",
    "import jax.numpy as jnp\n",
    "import equinox as eqx\n",
    "import optax\n",
    "from hypermagnetics import plots\n",
    "from hypermagnetics.sources import configure\n",
    "from hypermagnetics.models.hyper_fourier import FourierModel\n",
    "from hypermagnetics.runner import fit\n",
    "import matplotlib.pyplot as plt\n",
    "import scienceplots  # noqa\n",
    "\n",
    "plt.style.use([\"science\", \"ieee\"])"
   ]
  },
  {
   "cell_type": "markdown",
   "metadata": {},
   "source": [
    "## I. Target definition and data generation\n",
    "\n",
    "We use the typical form of the field from a single source. The dipole field at $\\mathbf{r}$ from a source with moment $\\mathbf{m}_i$ and positions $\\mathbf{r}_0$ is computed via the scalar potential as $${\\mu_0}\\mathbf{H}_{\\odot}(\\mathbf{r}) = -\\nabla \\underbrace{\\overbrace{\\frac{1}{2\\pi |\\mathbf{r}-\\mathbf{r_0}|}}^{\\text{Surface of 2D ball}}\\overbrace{\\frac{\\mathbf{m}_0\\cdot(\\mathbf{r}-\\mathbf{r_0})}{|\\mathbf{r}-\\mathbf{r_0}|}}^{\\text{dipole term}}}_{\\text{scalar potential }\\psi_i}$$. \n",
    "\n",
    "We'll use a single source example on a grid for training and generalise to non-grid locations."
   ]
  },
  {
   "cell_type": "code",
   "execution_count": 2,
   "metadata": {},
   "outputs": [],
   "source": [
    "source_config = {\n",
    "    \"n_samples\": 1,\n",
    "    \"lim\": 2,\n",
    "    \"res\": 50,\n",
    "}\n",
    "source = configure(**source_config, n_sources=1, key=jr.PRNGKey(40))"
   ]
  },
  {
   "cell_type": "code",
   "execution_count": 5,
   "metadata": {},
   "outputs": [],
   "source": [
    "class FourierDecomposition(FourierModel):\n",
    "    order: int\n",
    "    lim: int = 2\n",
    "    potential: jax.Array = jnp.ones(1)\n",
    "\n",
    "    @property\n",
    "    def omega(self):\n",
    "        return jnp.fft.fftfreq(self.order, d=(2 * self.lim / self.order))\n",
    "    \n",
    "    def prepare_weights(self, sources):\n",
    "        scaling = self.order * self.order\n",
    "        F = jnp.fft.fft2(self.potential) # Compute the 2D FFT \n",
    "\n",
    "        # Compute the mode coefficients\n",
    "        a = 2 * jnp.real(F) / scaling\n",
    "        b = -2 * jnp.imag(F) / scaling\n",
    "        c = 2 * jnp.real(jnp.roll(F, -1, axis=1)) / scaling\n",
    "        d = -2 * jnp.imag(jnp.roll(F, -1, axis=(0,1))) / scaling\n",
    "\n",
    "        # Adjust for DC component\n",
    "        bias = jnp.real(F[0, 0]) / scaling\n",
    "        weights = jnp.stack([a, b, c, d], axis=0)\n",
    "\n",
    "        return weights, bias"
   ]
  },
  {
   "cell_type": "code",
   "execution_count": 6,
   "metadata": {},
   "outputs": [
    {
     "ename": "TypeError",
     "evalue": "__init__() got an unexpected keyword argument 'lim'",
     "output_type": "error",
     "traceback": [
      "\u001b[0;31m---------------------------------------------------------------------------\u001b[0m",
      "\u001b[0;31mTypeError\u001b[0m                                 Traceback (most recent call last)",
      "Cell \u001b[0;32mIn[6], line 1\u001b[0m\n\u001b[0;32m----> 1\u001b[0m model \u001b[38;5;241m=\u001b[39m \u001b[43mFourierDecomposition\u001b[49m\u001b[43m(\u001b[49m\u001b[43morder\u001b[49m\u001b[38;5;241;43m=\u001b[39;49m\u001b[38;5;241;43m50\u001b[39;49m\u001b[43m,\u001b[49m\u001b[43m \u001b[49m\u001b[43mlim\u001b[49m\u001b[38;5;241;43m=\u001b[39;49m\u001b[38;5;241;43m2\u001b[39;49m\u001b[43m,\u001b[49m\u001b[43m \u001b[49m\u001b[43mpotential\u001b[49m\u001b[38;5;241;43m=\u001b[39;49m\u001b[43msource\u001b[49m\u001b[43m[\u001b[49m\u001b[38;5;124;43m\"\u001b[39;49m\u001b[38;5;124;43mpotential\u001b[39;49m\u001b[38;5;124;43m\"\u001b[39;49m\u001b[43m]\u001b[49m\u001b[43m)\u001b[49m\n",
      "File \u001b[0;32m~/miniforge3/envs/hypermagnetics/lib/python3.9/site-packages/equinox/_module.py:452\u001b[0m, in \u001b[0;36m_ModuleMeta.__call__\u001b[0;34m(cls, *args, **kwargs)\u001b[0m\n\u001b[1;32m    450\u001b[0m initable_cls \u001b[38;5;241m=\u001b[39m _make_initable(\u001b[38;5;28mcls\u001b[39m, \u001b[38;5;28mcls\u001b[39m\u001b[38;5;241m.\u001b[39m\u001b[38;5;21m__init__\u001b[39m, post_init, wraps\u001b[38;5;241m=\u001b[39m\u001b[38;5;28;01mFalse\u001b[39;00m)\n\u001b[1;32m    451\u001b[0m \u001b[38;5;66;03m# [Step 2] Instantiate the class as normal.\u001b[39;00m\n\u001b[0;32m--> 452\u001b[0m \u001b[38;5;28mself\u001b[39m \u001b[38;5;241m=\u001b[39m \u001b[38;5;28;43msuper\u001b[39;49m\u001b[43m(\u001b[49m\u001b[43m_ModuleMeta\u001b[49m\u001b[43m,\u001b[49m\u001b[43m \u001b[49m\u001b[43minitable_cls\u001b[49m\u001b[43m)\u001b[49m\u001b[38;5;241;43m.\u001b[39;49m\u001b[38;5;21;43m__call__\u001b[39;49m\u001b[43m(\u001b[49m\u001b[38;5;241;43m*\u001b[39;49m\u001b[43margs\u001b[49m\u001b[43m,\u001b[49m\u001b[43m \u001b[49m\u001b[38;5;241;43m*\u001b[39;49m\u001b[38;5;241;43m*\u001b[39;49m\u001b[43mkwargs\u001b[49m\u001b[43m)\u001b[49m\n\u001b[1;32m    453\u001b[0m \u001b[38;5;28;01massert\u001b[39;00m \u001b[38;5;129;01mnot\u001b[39;00m _is_abstract(\u001b[38;5;28mcls\u001b[39m)\n\u001b[1;32m    454\u001b[0m \u001b[38;5;66;03m# [Step 3] Check that all fields are occupied.\u001b[39;00m\n",
      "    \u001b[0;31m[... skipping hidden 2 frame]\u001b[0m\n",
      "File \u001b[0;32m~/miniforge3/envs/hypermagnetics/lib/python3.9/site-packages/equinox/_module.py:296\u001b[0m, in \u001b[0;36m_ModuleMeta.__new__.<locals>.__init__\u001b[0;34m(self, *args, **kwargs)\u001b[0m\n\u001b[1;32m    293\u001b[0m \u001b[38;5;129m@ft\u001b[39m\u001b[38;5;241m.\u001b[39mwraps(init)  \u001b[38;5;66;03m# pyright: ignore\u001b[39;00m\n\u001b[1;32m    294\u001b[0m \u001b[38;5;28;01mdef\u001b[39;00m \u001b[38;5;21m__init__\u001b[39m(\u001b[38;5;28mself\u001b[39m, \u001b[38;5;241m*\u001b[39margs, \u001b[38;5;241m*\u001b[39m\u001b[38;5;241m*\u001b[39mkwargs):\n\u001b[1;32m    295\u001b[0m     __tracebackhide__ \u001b[38;5;241m=\u001b[39m \u001b[38;5;28;01mTrue\u001b[39;00m\n\u001b[0;32m--> 296\u001b[0m     \u001b[43minit\u001b[49m\u001b[43m(\u001b[49m\u001b[38;5;28;43mself\u001b[39;49m\u001b[43m,\u001b[49m\u001b[43m \u001b[49m\u001b[38;5;241;43m*\u001b[39;49m\u001b[43margs\u001b[49m\u001b[43m,\u001b[49m\u001b[43m \u001b[49m\u001b[38;5;241;43m*\u001b[39;49m\u001b[38;5;241;43m*\u001b[39;49m\u001b[43mkwargs\u001b[49m\u001b[43m)\u001b[49m\n\u001b[1;32m    297\u001b[0m     \u001b[38;5;66;03m# Same `if` trick as with `__post_init__`.\u001b[39;00m\n\u001b[1;32m    298\u001b[0m     \u001b[38;5;28;01mif\u001b[39;00m \u001b[38;5;28mself\u001b[39m\u001b[38;5;241m.\u001b[39m\u001b[38;5;18m__class__\u001b[39m\u001b[38;5;241m.\u001b[39m\u001b[38;5;21m__init__\u001b[39m \u001b[38;5;129;01mis\u001b[39;00m \u001b[38;5;28mcls\u001b[39m\u001b[38;5;241m.\u001b[39m\u001b[38;5;21m__init__\u001b[39m:\n",
      "\u001b[0;31mTypeError\u001b[0m: __init__() got an unexpected keyword argument 'lim'"
     ]
    }
   ],
   "source": [
    "model = FourierDecomposition(order=50, lim=2, potential=source[\"potential\"])"
   ]
  },
  {
   "cell_type": "markdown",
   "metadata": {},
   "source": [
    "## Learning weights - doesn't work"
   ]
  },
  {
   "cell_type": "code",
   "execution_count": null,
   "metadata": {},
   "outputs": [],
   "source": [
    "class FourierDecomposition(FourierModel):\n",
    "    hypermodel: jax.Array\n",
    "    lfmin: jax.Array\n",
    "    lfmax: jax.Array\n",
    "    bias: jax.Array\n",
    "    order: int\n",
    "\n",
    "    def __init__(self, order):\n",
    "        self.order = order\n",
    "        self.lfmin = jnp.ones(1) * -order / 2\n",
    "        self.lfmax = jnp.ones(1)\n",
    "        self.bias = jnp.ones(1)\n",
    "        self.hypermodel = jnp.ones((4 * order**2))  # No hypermodel, just a set of weights\n",
    "\n",
    "    def prepare_weights(self, sources):\n",
    "        # Weights don't depend on source information; just fit them.\n",
    "        return self.hypermodel, self.bias.squeeze()"
   ]
  },
  {
   "cell_type": "code",
   "execution_count": null,
   "metadata": {},
   "outputs": [],
   "source": [
    "model = FourierDecomposition(order=25)\n",
    "plots(source, model)"
   ]
  },
  {
   "cell_type": "code",
   "execution_count": null,
   "metadata": {},
   "outputs": [],
   "source": [
    "schedule = [\n",
    "    {\"log_learning_rate\": -2.0, \"epochs\": 5000},\n",
    "    {\"log_learning_rate\": -3.0, \"epochs\": 5000},\n",
    "    {\"log_learning_rate\": -4.0, \"epochs\": 5000}\n",
    "]\n",
    "\n",
    "for trainer_config in schedule:\n",
    "    learning_rate = 10 ** trainer_config[\"log_learning_rate\"]\n",
    "    optim = optax.adamw(learning_rate, b1=0.95)\n",
    "    model = fit(trainer_config, optim, model, source, source, every=100)"
   ]
  },
  {
   "cell_type": "code",
   "execution_count": null,
   "metadata": {},
   "outputs": [],
   "source": [
    "print(model.lfmin, model.lfmax)\n",
    "plots(source, model=model)"
   ]
  }
 ],
 "metadata": {
  "kernelspec": {
   "display_name": "magstatics-learning-arm",
   "language": "python",
   "name": "python3"
  },
  "language_info": {
   "codemirror_mode": {
    "name": "ipython",
    "version": 3
   },
   "file_extension": ".py",
   "mimetype": "text/x-python",
   "name": "python",
   "nbconvert_exporter": "python",
   "pygments_lexer": "ipython3",
   "version": "3.9.18"
  },
  "orig_nbformat": 4
 },
 "nbformat": 4,
 "nbformat_minor": 2
}
