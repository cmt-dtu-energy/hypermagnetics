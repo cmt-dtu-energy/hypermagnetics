{
 "cells": [
  {
   "cell_type": "code",
   "execution_count": 1,
   "metadata": {},
   "outputs": [],
   "source": [
    "import mayavi.mlab as mlab\n",
    "from hypermagnetics.sources import configure"
   ]
  },
  {
   "cell_type": "code",
   "execution_count": 2,
   "metadata": {},
   "outputs": [],
   "source": [
    "config = {\n",
    "    \"n_samples\": 1,\n",
    "    \"n_sources\": 2,\n",
    "    \"seed\": 40,\n",
    "    \"lim\": 3,\n",
    "    \"res\": 32,\n",
    "    \"dim\": 3,\n",
    "}\n",
    "train_data = configure(**config)\n",
    "\n",
    "r, potential, field = (\n",
    "    train_data[\"grid\"],\n",
    "    train_data[\"potential_grid\"],\n",
    "    train_data[\"field_grid\"],\n",
    ")"
   ]
  },
  {
   "cell_type": "code",
   "execution_count": 3,
   "metadata": {},
   "outputs": [],
   "source": [
    "x = r[:, 0].reshape((config[\"res\"], config[\"res\"], config[\"res\"]))\n",
    "y = r[:, 1].reshape((config[\"res\"], config[\"res\"], config[\"res\"]))\n",
    "z = r[:, 2].reshape((config[\"res\"], config[\"res\"], config[\"res\"]))\n",
    "\n",
    "Bx = field[0][:, 0].reshape((config[\"res\"], config[\"res\"], config[\"res\"]))\n",
    "By = field[0][:, 1].reshape((config[\"res\"], config[\"res\"], config[\"res\"]))\n",
    "Bz = field[0][:, 2].reshape((config[\"res\"], config[\"res\"], config[\"res\"]))"
   ]
  },
  {
   "cell_type": "code",
   "execution_count": 7,
   "metadata": {},
   "outputs": [
    {
     "name": "stderr",
     "output_type": "stream",
     "text": [
      "qt.qpa.window: <QNSWindow: 0x17cccd160; contentView=<QNSView: 0x17ccc73f0; QCocoaWindow(0x17cccf100, window=QWidgetWindow(0x17cc834d0, name=\"QMainWindowClassWindow\"))>> has active key-value observers (KVO)! These will stop working now that the window is recreated, and will result in exceptions when the observers are removed. Break in QCocoaWindow::recreateWindowIfNeeded to debug.\n",
      "Exception occurred in traits notification handler for object: <mayavi.core.module_manager.ModuleManager object at 0x17f3ec310>, trait: source, old value: None, new value: <mayavi.filters.extract_vector_norm.ExtractVectorNorm object at 0x17f8beb30>\n",
      "Traceback (most recent call last):\n",
      "  File \"/opt/homebrew/Caskroom/miniconda/base/envs/hypermagnetics/lib/python3.9/site-packages/traits/trait_notifiers.py\", line 342, in __call__\n",
      "    self.handler(*args)\n",
      "  File \"/opt/homebrew/Caskroom/miniconda/base/envs/hypermagnetics/lib/python3.9/site-packages/mayavi/core/module_manager.py\", line 262, in _source_changed\n",
      "    self.update()\n",
      "  File \"/opt/homebrew/Caskroom/miniconda/base/envs/hypermagnetics/lib/python3.9/site-packages/mayavi/core/module_manager.py\", line 156, in update\n",
      "    self._setup_scalar_data(helper)\n",
      "  File \"/opt/homebrew/Caskroom/miniconda/base/envs/hypermagnetics/lib/python3.9/site-packages/mayavi/core/module_manager.py\", line 288, in _setup_scalar_data\n",
      "    point_data_attr.compute_scalar(helper, 'point')\n",
      "  File \"/opt/homebrew/Caskroom/miniconda/base/envs/hypermagnetics/lib/python3.9/site-packages/mayavi/core/module_manager.py\", line 49, in compute_scalar\n",
      "    name, rng = helper.get_range(attr='scalars', mode=mode)\n",
      "  File \"/opt/homebrew/Caskroom/miniconda/base/envs/hypermagnetics/lib/python3.9/site-packages/mayavi/core/utils.py\", line 69, in get_range\n",
      "    x = self._get_attr(da, attr, mode)\n",
      "  File \"/opt/homebrew/Caskroom/miniconda/base/envs/hypermagnetics/lib/python3.9/site-packages/mayavi/core/utils.py\", line 62, in _get_attr\n",
      "    return name, da[name]\n",
      "  File \"/opt/homebrew/Caskroom/miniconda/base/envs/hypermagnetics/lib/python3.9/site-packages/vtkmodules/numpy_interface/dataset_adapter.py\", line 643, in __getitem__\n",
      "    return self.GetArray(idx)\n",
      "  File \"/opt/homebrew/Caskroom/miniconda/base/envs/hypermagnetics/lib/python3.9/site-packages/vtkmodules/numpy_interface/dataset_adapter.py\", line 655, in GetArray\n",
      "    array = vtkDataArrayToVTKArray(vtkarray, self.DataSet)\n",
      "  File \"/opt/homebrew/Caskroom/miniconda/base/envs/hypermagnetics/lib/python3.9/site-packages/vtkmodules/numpy_interface/dataset_adapter.py\", line 134, in vtkDataArrayToVTKArray\n",
      "    narray = numpy_support.vtk_to_numpy(array)\n",
      "  File \"/opt/homebrew/Caskroom/miniconda/base/envs/hypermagnetics/lib/python3.9/site-packages/vtkmodules/util/numpy_support.py\", line 216, in vtk_to_numpy\n",
      "    assert typ in get_vtk_to_numpy_typemap().keys(), \\\n",
      "  File \"/opt/homebrew/Caskroom/miniconda/base/envs/hypermagnetics/lib/python3.9/site-packages/vtkmodules/util/numpy_support.py\", line 74, in get_vtk_to_numpy_typemap\n",
      "    _vtk_np = {vtkConstants.VTK_BIT:numpy.bool,\n",
      "  File \"/opt/homebrew/Caskroom/miniconda/base/envs/hypermagnetics/lib/python3.9/site-packages/numpy/__init__.py\", line 324, in __getattr__\n",
      "    raise AttributeError(__former_attrs__[attr])\n",
      "AttributeError: module 'numpy' has no attribute 'bool'.\n",
      "`np.bool` was a deprecated alias for the builtin `bool`. To avoid this error in existing code, use `bool` by itself. Doing this will not modify any behavior and is safe. If you specifically wanted the numpy scalar type, use `np.bool_` here.\n",
      "The aliases was originally deprecated in NumPy 1.20; for more details and guidance see the original release note at:\n",
      "    https://numpy.org/devdocs/release/1.20.0-notes.html#deprecations\n"
     ]
    },
    {
     "data": {
      "text/plain": [
       "<mayavi.modules.streamline.Streamline at 0x17f764090>"
      ]
     },
     "execution_count": 7,
     "metadata": {},
     "output_type": "execute_result"
    }
   ],
   "source": [
    "mlab.figure(1, bgcolor=(1, 1, 1), fgcolor=(0.5, 0.5, 0.5), size=(480, 480))\n",
    "mlab.clf()\n",
    "mlab.flow(x, y, z, Bx, By, Bz)\n",
    "# mlab.show()"
   ]
  }
 ],
 "metadata": {
  "kernelspec": {
   "display_name": "hypermagnetics",
   "language": "python",
   "name": "python3"
  },
  "language_info": {
   "codemirror_mode": {
    "name": "ipython",
    "version": 3
   },
   "file_extension": ".py",
   "mimetype": "text/x-python",
   "name": "python",
   "nbconvert_exporter": "python",
   "pygments_lexer": "ipython3",
   "version": "3.9.18"
  }
 },
 "nbformat": 4,
 "nbformat_minor": 2
}
