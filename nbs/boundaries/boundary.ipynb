{
 "cells": [
  {
   "cell_type": "markdown",
   "metadata": {},
   "source": [
    "# Harmonic boundary problem solver for boundaries of arbitrary shape\n",
    "\n",
    "We are studying the propagation of uncertainty from boundary conditions to (magnetic) field solutions within that boundary. Our initial solution (circular.ipynb) worked exclusively with circular boundaries. Now we will attempt to generalise to boundaries of any shape that is continuous deformation of the circle."
   ]
  },
  {
   "cell_type": "code",
   "execution_count": null,
   "metadata": {},
   "outputs": [],
   "source": []
  }
 ],
 "metadata": {
  "language_info": {
   "name": "python"
  }
 },
 "nbformat": 4,
 "nbformat_minor": 2
}
