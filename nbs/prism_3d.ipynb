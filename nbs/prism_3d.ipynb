{
 "cells": [
  {
   "cell_type": "markdown",
   "metadata": {},
   "source": [
    "# Hypernetwork modelling of 3D demagnetising field"
   ]
  },
  {
   "cell_type": "code",
   "execution_count": 1,
   "metadata": {},
   "outputs": [],
   "source": [
    "import jax.numpy as jnp\n",
    "import optax\n",
    "\n",
    "from hypermagnetics import plots\n",
    "from hypermagnetics.sources import configure\n",
    "from hypermagnetics.models.hyper_mlp import HyperLayer\n",
    "from hypermagnetics.runner import fit\n",
    "from hypermagnetics.measures import loss, accuracy\n",
    "\n",
    "import matplotlib.pyplot as plt\n",
    "from matplotlib import patches\n",
    "import scienceplots  # noqa\n",
    "\n",
    "plt.style.use([\"science\", \"ieee\"])"
   ]
  },
  {
   "cell_type": "markdown",
   "metadata": {},
   "source": [
    "## I. Target definition and data generation\n",
    "\n",
    "Here we are modelling the field around three-dimensional prism sources that follow the potential/field derived in the `sources.ipynb` notebook, i.e.\n",
    "\n",
    "$$\n",
    "\\phi = \\mathbf{m}\\cdot\\left.\\left(\\mathbb{F}\\cdot\\mathbf{r}\\right)\\right|^{\\{+a,+b,+c\\}}_{\\{-a,-b,-c\\}},\n",
    "$$\n",
    "\n",
    "where the evaluation of the shape tensor $\\mathbb{F}|_{abc}$ is implemented via `configure` in `src/sources.py`."
   ]
  },
  {
   "cell_type": "code",
   "execution_count": 2,
   "metadata": {},
   "outputs": [
    {
     "name": "stderr",
     "output_type": "stream",
     "text": [
      "Platform 'METAL' is experimental and not all JAX functionality may be correctly supported!\n",
      "2024-04-29 14:16:47.585695: W pjrt_plugin/src/mps_client.cc:563] WARNING: JAX Apple GPU support is experimental and not all JAX functionality is correctly supported!\n"
     ]
    },
    {
     "name": "stdout",
     "output_type": "stream",
     "text": [
      "Metal device set to: Apple M2 Ultra\n",
      "\n",
      "systemMemory: 192.00 GB\n",
      "maxCacheSize: 72.00 GB\n",
      "\n"
     ]
    },
    {
     "name": "stderr",
     "output_type": "stream",
     "text": [
      "warning: loc(\"jit(_prism)/jit(main)/select_n\"(callsite(\"_prism\"(\"/Users/berian/Research/hypermagnetics/src/hypermagnetics/sources.py\":40:0) at callsite(\"_potential\"(\"/Users/berian/Research/hypermagnetics/src/hypermagnetics/sources.py\":65:0) at callsite(\"_total\"(\"/Users/berian/Research/hypermagnetics/src/hypermagnetics/sources.py\":81:0) at callsite(\"configure\"(\"/Users/berian/Research/hypermagnetics/src/hypermagnetics/sources.py\":110:0) at \"<module>\"(\"/var/folders/b2/qdsvbxd554q4hgh3r8sqkw580000gn/T/ipykernel_19912/2005075070.py\":20:0))))))): 'anec.not_equal_zero' op Invalid configuration for the following reasons: Tensor dimensions N1D1C1000H1W32768 are not within supported range, N[1-65536]D[1-16384]C[1-65536]H[1-16384]W[1-16384].\n",
      "warning: loc(\"jit(_prism)/jit(main)/select_n\"(callsite(\"_prism\"(\"/Users/berian/Research/hypermagnetics/src/hypermagnetics/sources.py\":41:0) at callsite(\"_potential\"(\"/Users/berian/Research/hypermagnetics/src/hypermagnetics/sources.py\":65:0) at callsite(\"_total\"(\"/Users/berian/Research/hypermagnetics/src/hypermagnetics/sources.py\":81:0) at callsite(\"configure\"(\"/Users/berian/Research/hypermagnetics/src/hypermagnetics/sources.py\":110:0) at \"<module>\"(\"/var/folders/b2/qdsvbxd554q4hgh3r8sqkw580000gn/T/ipykernel_19912/2005075070.py\":20:0))))))): 'anec.not_equal_zero' op Invalid configuration for the following reasons: Tensor dimensions N1D1C1000H1W32768 are not within supported range, N[1-65536]D[1-16384]C[1-65536]H[1-16384]W[1-16384].\n",
      "warning: loc(\"jit(_prism)/jit(main)/select_n\"(callsite(\"_prism\"(\"/Users/berian/Research/hypermagnetics/src/hypermagnetics/sources.py\":40:0) at callsite(\"_potential\"(\"/Users/berian/Research/hypermagnetics/src/hypermagnetics/sources.py\":65:0) at callsite(\"_total\"(\"/Users/berian/Research/hypermagnetics/src/hypermagnetics/sources.py\":81:0) at callsite(\"configure\"(\"/Users/berian/Research/hypermagnetics/src/hypermagnetics/sources.py\":110:0) at \"<module>\"(\"/var/folders/b2/qdsvbxd554q4hgh3r8sqkw580000gn/T/ipykernel_19912/2005075070.py\":20:0))))))): 'anec.not_equal_zero' op Invalid configuration for the following reasons: Tensor dimensions N1D1C1000H1W32768 are not within supported range, N[1-65536]D[1-16384]C[1-65536]H[1-16384]W[1-16384].\n",
      "warning: loc(\"jit(_prism)/jit(main)/select_n\"(callsite(\"_prism\"(\"/Users/berian/Research/hypermagnetics/src/hypermagnetics/sources.py\":41:0) at callsite(\"_potential\"(\"/Users/berian/Research/hypermagnetics/src/hypermagnetics/sources.py\":65:0) at callsite(\"_total\"(\"/Users/berian/Research/hypermagnetics/src/hypermagnetics/sources.py\":81:0) at callsite(\"configure\"(\"/Users/berian/Research/hypermagnetics/src/hypermagnetics/sources.py\":110:0) at \"<module>\"(\"/var/folders/b2/qdsvbxd554q4hgh3r8sqkw580000gn/T/ipykernel_19912/2005075070.py\":20:0))))))): 'anec.not_equal_zero' op Invalid configuration for the following reasons: Tensor dimensions N1D1C1000H1W32768 are not within supported range, N[1-65536]D[1-16384]C[1-65536]H[1-16384]W[1-16384].\n",
      "warning: loc(\"jit(_prism)/jit(main)/select_n\"(callsite(\"_prism\"(\"/Users/berian/Research/hypermagnetics/src/hypermagnetics/sources.py\":41:0) at callsite(\"_potential\"(\"/Users/berian/Research/hypermagnetics/src/hypermagnetics/sources.py\":65:0) at callsite(\"_total\"(\"/Users/berian/Research/hypermagnetics/src/hypermagnetics/sources.py\":81:0) at callsite(\"configure\"(\"/Users/berian/Research/hypermagnetics/src/hypermagnetics/sources.py\":110:0) at \"<module>\"(\"/var/folders/b2/qdsvbxd554q4hgh3r8sqkw580000gn/T/ipykernel_19912/2005075070.py\":20:0))))))): 'anec.not_equal_zero' op Invalid configuration for the following reasons: Tensor dimensions N1D1C1000H1W32768 are not within supported range, N[1-65536]D[1-16384]C[1-65536]H[1-16384]W[1-16384].\n",
      "warning: loc(\"jit(_prism)/jit(main)/select_n\"(callsite(\"_prism\"(\"/Users/berian/Research/hypermagnetics/src/hypermagnetics/sources.py\":40:0) at callsite(\"_potential\"(\"/Users/berian/Research/hypermagnetics/src/hypermagnetics/sources.py\":65:0) at callsite(\"_total\"(\"/Users/berian/Research/hypermagnetics/src/hypermagnetics/sources.py\":81:0) at callsite(\"configure\"(\"/Users/berian/Research/hypermagnetics/src/hypermagnetics/sources.py\":110:0) at \"<module>\"(\"/var/folders/b2/qdsvbxd554q4hgh3r8sqkw580000gn/T/ipykernel_19912/2005075070.py\":20:0))))))): 'anec.not_equal_zero' op Invalid configuration for the following reasons: Tensor dimensions N1D1C1000H1W32768 are not within supported range, N[1-65536]D[1-16384]C[1-65536]H[1-16384]W[1-16384].\n"
     ]
    }
   ],
   "source": [
    "res = 32\n",
    "lim = 4\n",
    "row = jnp.linspace(-lim, lim, res)\n",
    "\n",
    "train_config = {\n",
    "    \"shape\": \"prism\",\n",
    "    \"n_samples\": 1000,\n",
    "    \"n_sources\": 1,\n",
    "    \"seed\": 101,\n",
    "    \"dim\": 3,\n",
    "    \"lim\": lim,\n",
    "    \"res\": res,\n",
    "}\n",
    "\n",
    "test_config = train_config.copy()\n",
    "test_config.update({\"seed\": 123})\n",
    "\n",
    "# m, r0 = jnp.split(sources[0][0], 2, axis=-1)\n",
    "\n",
    "prism_data = configure(**train_config)\n",
    "test_data = configure(**test_config)\n",
    "\n",
    "keys = [\"sources\", \"r\", \"potential_grid\", \"field_grid\"]\n",
    "sources, r, potential, field = [prism_data.get(key) for key in keys]"
   ]
  },
  {
   "cell_type": "code",
   "execution_count": 3,
   "metadata": {},
   "outputs": [
    {
     "name": "stdout",
     "output_type": "stream",
     "text": [
      "{'in_size': 3, 'width': 64, 'depth': 3, 'hwidth': 1, 'hdepth': 3, 'seed': 30}\n",
      "0.20552762 100.215004\n"
     ]
    }
   ],
   "source": [
    "model = HyperLayer(in_size=3, width=64, depth=3, hwidth=1, hdepth=3, seed=30)\n",
    "print(model.hparams)\n",
    "\n",
    "print(loss(model, prism_data), accuracy(model, prism_data))\n",
    "# pred = print(jax.vmap(model, in_axes=(0, None))(sources, r))\n",
    "# P = prism_data[\"potential\"]\n",
    "# print(P)"
   ]
  },
  {
   "cell_type": "code",
   "execution_count": 4,
   "metadata": {},
   "outputs": [
    {
     "name": "stderr",
     "output_type": "stream",
     "text": [
      "warning: loc(callsite(\"jit(step)/jit(main)/jvp(jit(loss))/select_n\"(callsite(\"loss\"(\"/Users/berian/Research/hypermagnetics/src/hypermagnetics/measures.py\":23:0) at \"<module>\"(\"/var/folders/b2/qdsvbxd554q4hgh3r8sqkw580000gn/T/ipykernel_19912/1532120878.py\":4:0))) at \"jit(step)/jit(main)/pjit[in_shardings=(UnspecifiedValue, UnspecifiedValue, UnspecifiedValue, UnspecifiedValue, UnspecifiedValue, UnspecifiedValue, UnspecifiedValue, UnspecifiedValue, UnspecifiedValue, UnspecifiedValue, UnspecifiedValue, UnspecifiedValue, UnspecifiedValue, UnspecifiedValue, UnspecifiedValue, UnspecifiedValue, UnspecifiedValue, UnspecifiedValue, UnspecifiedValue) out_shardings=(UnspecifiedValue, UnspecifiedValue, UnspecifiedValue, UnspecifiedValue, UnspecifiedValue, UnspecifiedValue, UnspecifiedValue, UnspecifiedValue, UnspecifiedValue, UnspecifiedValue, UnspecifiedValue, UnspecifiedValue, UnspecifiedValue, UnspecifiedValue, UnspecifiedValue, UnspecifiedValue, UnspecifiedValue, UnspecifiedValue, UnspecifiedValue, UnspecifiedValue, UnspecifiedValue, UnspecifiedValue, UnspecifiedValue, UnspecifiedValue, UnspecifiedValue, UnspecifiedValue, UnspecifiedValue, UnspecifiedValue, UnspecifiedValue, UnspecifiedValue, UnspecifiedValue, UnspecifiedValue, UnspecifiedValue, UnspecifiedValue, UnspecifiedValue, UnspecifiedValue, UnspecifiedValue, UnspecifiedValue, UnspecifiedValue, UnspecifiedValue, UnspecifiedValue, UnspecifiedValue, UnspecifiedValue, UnspecifiedValue, UnspecifiedValue, UnspecifiedValue, UnspecifiedValue) resource_env=None donated_invars=(False, False, False, False, False, False, False, False, False, False, False, False, False, False, False, False, False, False, False) name=loss keep_unused=False inline=False]\"(callsite(\"step\"(\"/Users/berian/Research/hypermagnetics/src/hypermagnetics/runner.py\":21:0) at callsite(\"fit\"(\"/Users/berian/Research/hypermagnetics/src/hypermagnetics/runner.py\":27:0) at \"<module>\"(\"/var/folders/b2/qdsvbxd554q4hgh3r8sqkw580000gn/T/ipykernel_19912/3697892448.py\":3:0)))))): 'anec.not_equal_zero' op Invalid configuration for the following reasons: Tensor dimensions N1D1C1000H1W32768 are not within supported range, N[1-65536]D[1-16384]C[1-65536]H[1-16384]W[1-16384].\n",
      "warning: loc(callsite(\"jit(step)/jit(main)/jvp(jit(loss))/select_n\"(callsite(\"loss\"(\"/Users/berian/Research/hypermagnetics/src/hypermagnetics/measures.py\":23:0) at \"<module>\"(\"/var/folders/b2/qdsvbxd554q4hgh3r8sqkw580000gn/T/ipykernel_19912/1532120878.py\":4:0))) at \"jit(step)/jit(main)/pjit[in_shardings=(UnspecifiedValue, UnspecifiedValue, UnspecifiedValue, UnspecifiedValue, UnspecifiedValue, UnspecifiedValue, UnspecifiedValue, UnspecifiedValue, UnspecifiedValue, UnspecifiedValue, UnspecifiedValue, UnspecifiedValue, UnspecifiedValue, UnspecifiedValue, UnspecifiedValue, UnspecifiedValue, UnspecifiedValue, UnspecifiedValue, UnspecifiedValue) out_shardings=(UnspecifiedValue, UnspecifiedValue, UnspecifiedValue, UnspecifiedValue, UnspecifiedValue, UnspecifiedValue, UnspecifiedValue, UnspecifiedValue, UnspecifiedValue, UnspecifiedValue, UnspecifiedValue, UnspecifiedValue, UnspecifiedValue, UnspecifiedValue, UnspecifiedValue, UnspecifiedValue, UnspecifiedValue, UnspecifiedValue, UnspecifiedValue, UnspecifiedValue, UnspecifiedValue, UnspecifiedValue, UnspecifiedValue, UnspecifiedValue, UnspecifiedValue, UnspecifiedValue, UnspecifiedValue, UnspecifiedValue, UnspecifiedValue, UnspecifiedValue, UnspecifiedValue, UnspecifiedValue, UnspecifiedValue, UnspecifiedValue, UnspecifiedValue, UnspecifiedValue, UnspecifiedValue, UnspecifiedValue, UnspecifiedValue, UnspecifiedValue, UnspecifiedValue, UnspecifiedValue, UnspecifiedValue, UnspecifiedValue, UnspecifiedValue, UnspecifiedValue, UnspecifiedValue) resource_env=None donated_invars=(False, False, False, False, False, False, False, False, False, False, False, False, False, False, False, False, False, False, False) name=loss keep_unused=False inline=False]\"(callsite(\"step\"(\"/Users/berian/Research/hypermagnetics/src/hypermagnetics/runner.py\":21:0) at callsite(\"fit\"(\"/Users/berian/Research/hypermagnetics/src/hypermagnetics/runner.py\":27:0) at \"<module>\"(\"/var/folders/b2/qdsvbxd554q4hgh3r8sqkw580000gn/T/ipykernel_19912/3697892448.py\":3:0)))))): 'anec.not_equal_zero' op Invalid configuration for the following reasons: Tensor dimensions N1D1C1000H1W32768 are not within supported range, N[1-65536]D[1-16384]C[1-65536]H[1-16384]W[1-16384].\n",
      "warning: loc(callsite(\"jit(step)/jit(main)/transpose(jvp(jit(loss)))/select_n\"(callsite(\"loss\"(\"/Users/berian/Research/hypermagnetics/src/hypermagnetics/measures.py\":23:0) at \"<module>\"(\"/var/folders/b2/qdsvbxd554q4hgh3r8sqkw580000gn/T/ipykernel_19912/1532120878.py\":4:0))) at \"jit(step)/jit(main)/pjit[in_shardings=(UnspecifiedValue, UnspecifiedValue, UnspecifiedValue, UnspecifiedValue, UnspecifiedValue, UnspecifiedValue, UnspecifiedValue, UnspecifiedValue, UnspecifiedValue, UnspecifiedValue, UnspecifiedValue, UnspecifiedValue, UnspecifiedValue, UnspecifiedValue, UnspecifiedValue, UnspecifiedValue, UnspecifiedValue, UnspecifiedValue, UnspecifiedValue, UnspecifiedValue, UnspecifiedValue, UnspecifiedValue, UnspecifiedValue, UnspecifiedValue, UnspecifiedValue, UnspecifiedValue, UnspecifiedValue, UnspecifiedValue, UnspecifiedValue, UnspecifiedValue, UnspecifiedValue, UnspecifiedValue, UnspecifiedValue, UnspecifiedValue, UnspecifiedValue, UnspecifiedValue, UnspecifiedValue, UnspecifiedValue, UnspecifiedValue, UnspecifiedValue, UnspecifiedValue, UnspecifiedValue, UnspecifiedValue, UnspecifiedValue, UnspecifiedValue, UnspecifiedValue, UnspecifiedValue, UnspecifiedValue, UnspecifiedValue, UnspecifiedValue, UnspecifiedValue, UnspecifiedValue, UnspecifiedValue, UnspecifiedValue, UnspecifiedValue) out_shardings=(UnspecifiedValue, UnspecifiedValue, UnspecifiedValue, UnspecifiedValue, UnspecifiedValue, UnspecifiedValue, UnspecifiedValue, UnspecifiedValue, UnspecifiedValue, UnspecifiedValue, UnspecifiedValue, UnspecifiedValue, UnspecifiedValue, UnspecifiedValue, UnspecifiedValue, UnspecifiedValue) resource_env=None donated_invars=(False, False, False, False, False, False, False, False, False, False, False, False, False, False, False, False, False, False, False, False, False, False, False, False, False, False, False, False, False, False, False, False, False, False, False, False, False, False, False, False, False, False, False, False, False, False, False, False, False, False, False, False, False, False, False) name=loss keep_unused=False inline=False]\"(callsite(\"step\"(\"/Users/berian/Research/hypermagnetics/src/hypermagnetics/runner.py\":21:0) at callsite(\"fit\"(\"/Users/berian/Research/hypermagnetics/src/hypermagnetics/runner.py\":27:0) at \"<module>\"(\"/var/folders/b2/qdsvbxd554q4hgh3r8sqkw580000gn/T/ipykernel_19912/3697892448.py\":3:0)))))): 'anec.not_equal_zero' op Invalid configuration for the following reasons: Tensor dimensions N1D1C1000H1W32768 are not within supported range, N[1-65536]D[1-16384]C[1-65536]H[1-16384]W[1-16384].\n",
      "warning: loc(callsite(\"jit(step)/jit(main)/transpose(jvp(jit(loss)))/select_n\"(callsite(\"loss\"(\"/Users/berian/Research/hypermagnetics/src/hypermagnetics/measures.py\":23:0) at \"<module>\"(\"/var/folders/b2/qdsvbxd554q4hgh3r8sqkw580000gn/T/ipykernel_19912/1532120878.py\":4:0))) at \"jit(step)/jit(main)/pjit[in_shardings=(UnspecifiedValue, UnspecifiedValue, UnspecifiedValue, UnspecifiedValue, UnspecifiedValue, UnspecifiedValue, UnspecifiedValue, UnspecifiedValue, UnspecifiedValue, UnspecifiedValue, UnspecifiedValue, UnspecifiedValue, UnspecifiedValue, UnspecifiedValue, UnspecifiedValue, UnspecifiedValue, UnspecifiedValue, UnspecifiedValue, UnspecifiedValue, UnspecifiedValue, UnspecifiedValue, UnspecifiedValue, UnspecifiedValue, UnspecifiedValue, UnspecifiedValue, UnspecifiedValue, UnspecifiedValue, UnspecifiedValue, UnspecifiedValue, UnspecifiedValue, UnspecifiedValue, UnspecifiedValue, UnspecifiedValue, UnspecifiedValue, UnspecifiedValue, UnspecifiedValue, UnspecifiedValue, UnspecifiedValue, UnspecifiedValue, UnspecifiedValue, UnspecifiedValue, UnspecifiedValue, UnspecifiedValue, UnspecifiedValue, UnspecifiedValue, UnspecifiedValue, UnspecifiedValue, UnspecifiedValue, UnspecifiedValue, UnspecifiedValue, UnspecifiedValue, UnspecifiedValue, UnspecifiedValue, UnspecifiedValue, UnspecifiedValue) out_shardings=(UnspecifiedValue, UnspecifiedValue, UnspecifiedValue, UnspecifiedValue, UnspecifiedValue, UnspecifiedValue, UnspecifiedValue, UnspecifiedValue, UnspecifiedValue, UnspecifiedValue, UnspecifiedValue, UnspecifiedValue, UnspecifiedValue, UnspecifiedValue, UnspecifiedValue, UnspecifiedValue) resource_env=None donated_invars=(False, False, False, False, False, False, False, False, False, False, False, False, False, False, False, False, False, False, False, False, False, False, False, False, False, False, False, False, False, False, False, False, False, False, False, False, False, False, False, False, False, False, False, False, False, False, False, False, False, False, False, False, False, False, False) name=loss keep_unused=False inline=False]\"(callsite(\"step\"(\"/Users/berian/Research/hypermagnetics/src/hypermagnetics/runner.py\":21:0) at callsite(\"fit\"(\"/Users/berian/Research/hypermagnetics/src/hypermagnetics/runner.py\":27:0) at \"<module>\"(\"/var/folders/b2/qdsvbxd554q4hgh3r8sqkw580000gn/T/ipykernel_19912/3697892448.py\":3:0)))))): 'anec.not_equal_zero' op Invalid configuration for the following reasons: Tensor dimensions N1D1C1000H1W32768 are not within supported range, N[1-65536]D[1-16384]C[1-65536]H[1-16384]W[1-16384].\n"
     ]
    },
    {
     "name": "stdout",
     "output_type": "stream",
     "text": [
      "{'epoch': 0, 'train_loss': 0.20552761852741241, 'train_err': 99.88005828857422, 'test_err': 99.91668701171875}\n",
      "{'epoch': 100, 'train_loss': 0.11976288259029388, 'train_err': 78.1854476928711, 'test_err': 79.23165893554688}\n",
      "{'epoch': 200, 'train_loss': 0.07344114780426025, 'train_err': 59.531272888183594, 'test_err': 61.73383712768555}\n",
      "{'epoch': 300, 'train_loss': 0.058430109173059464, 'train_err': 52.03592300415039, 'test_err': 54.97881317138672}\n",
      "{'epoch': 400, 'train_loss': 0.048837900161743164, 'train_err': 46.85567855834961, 'test_err': 50.28560256958008}\n",
      "{'epoch': 500, 'train_loss': 0.04481825232505798, 'train_err': 44.565677642822266, 'test_err': 48.19490051269531}\n",
      "{'epoch': 600, 'train_loss': 0.04229156672954559, 'train_err': 43.0803337097168, 'test_err': 46.89666748046875}\n",
      "{'epoch': 700, 'train_loss': 0.04053880646824837, 'train_err': 42.059181213378906, 'test_err': 46.01293182373047}\n",
      "{'epoch': 800, 'train_loss': 0.039299074560403824, 'train_err': 41.324710845947266, 'test_err': 45.40166091918945}\n",
      "{'epoch': 900, 'train_loss': 0.03828427195549011, 'train_err': 40.66230773925781, 'test_err': 44.864383697509766}\n",
      "{'epoch': 1000, 'train_loss': 0.03738631680607796, 'train_err': 40.081825256347656, 'test_err': 44.415035247802734}\n",
      "{'epoch': 1100, 'train_loss': 0.036998577415943146, 'train_err': 39.801395416259766, 'test_err': 44.20325469970703}\n",
      "{'epoch': 1200, 'train_loss': 0.0358915738761425, 'train_err': 39.100074768066406, 'test_err': 43.67677688598633}\n",
      "{'epoch': 1300, 'train_loss': 0.035146307200193405, 'train_err': 38.57612609863281, 'test_err': 43.2528076171875}\n",
      "{'epoch': 1400, 'train_loss': 0.03451211005449295, 'train_err': 38.148983001708984, 'test_err': 42.925724029541016}\n",
      "{'epoch': 1500, 'train_loss': 0.033937983214855194, 'train_err': 37.761356353759766, 'test_err': 42.628116607666016}\n",
      "{'epoch': 1600, 'train_loss': 0.03341055288910866, 'train_err': 37.40080642700195, 'test_err': 42.35054016113281}\n",
      "{'epoch': 1700, 'train_loss': 0.032916709780693054, 'train_err': 37.065673828125, 'test_err': 42.0854377746582}\n",
      "{'epoch': 1800, 'train_loss': 0.03248610347509384, 'train_err': 36.759395599365234, 'test_err': 41.839290618896484}\n",
      "{'epoch': 1900, 'train_loss': 0.03208072856068611, 'train_err': 36.48881149291992, 'test_err': 41.61885070800781}\n",
      "{'epoch': 2000, 'train_loss': 0.03169736638665199, 'train_err': 36.21772384643555, 'test_err': 41.39250946044922}\n",
      "{'epoch': 2100, 'train_loss': 0.03141229599714279, 'train_err': 36.026798248291016, 'test_err': 41.23698425292969}\n",
      "{'epoch': 2200, 'train_loss': 0.03104655258357525, 'train_err': 35.75166702270508, 'test_err': 41.00254821777344}\n",
      "{'epoch': 2300, 'train_loss': 0.031552571803331375, 'train_err': 35.61414337158203, 'test_err': 40.90060806274414}\n",
      "{'epoch': 2400, 'train_loss': 0.030589813366532326, 'train_err': 35.416786193847656, 'test_err': 40.723506927490234}\n",
      "{'epoch': 2500, 'train_loss': 0.030335240066051483, 'train_err': 35.2067756652832, 'test_err': 40.5284538269043}\n",
      "{'epoch': 2600, 'train_loss': 0.030308229848742485, 'train_err': 35.22898864746094, 'test_err': 40.54951477050781}\n",
      "{'epoch': 2700, 'train_loss': 0.03009836934506893, 'train_err': 34.93986129760742, 'test_err': 40.29495620727539}\n",
      "{'epoch': 2800, 'train_loss': 0.02955380082130432, 'train_err': 34.71613693237305, 'test_err': 40.079288482666016}\n",
      "{'epoch': 2900, 'train_loss': 0.029315965250134468, 'train_err': 34.557098388671875, 'test_err': 39.934425354003906}\n",
      "{'epoch': 3000, 'train_loss': 0.029145753011107445, 'train_err': 34.44271469116211, 'test_err': 39.82170104980469}\n",
      "{'epoch': 3100, 'train_loss': 0.029056135565042496, 'train_err': 34.34678268432617, 'test_err': 39.732032775878906}\n",
      "{'epoch': 3200, 'train_loss': 0.028812846168875694, 'train_err': 34.22236633300781, 'test_err': 39.60572814941406}\n",
      "{'epoch': 3300, 'train_loss': 0.028682619333267212, 'train_err': 34.14863586425781, 'test_err': 39.540748596191406}\n",
      "{'epoch': 3400, 'train_loss': 0.028522031381726265, 'train_err': 34.009254455566406, 'test_err': 39.412391662597656}\n",
      "{'epoch': 3500, 'train_loss': 0.028383774682879448, 'train_err': 33.91687774658203, 'test_err': 39.31419372558594}\n",
      "{'epoch': 3600, 'train_loss': 0.028254257515072823, 'train_err': 33.836727142333984, 'test_err': 39.24491500854492}\n",
      "{'epoch': 3700, 'train_loss': 0.028128236532211304, 'train_err': 33.74627685546875, 'test_err': 39.15409469604492}\n",
      "{'epoch': 3800, 'train_loss': 0.02801687829196453, 'train_err': 33.663997650146484, 'test_err': 39.07098388671875}\n",
      "{'epoch': 3900, 'train_loss': 0.027909623458981514, 'train_err': 33.61315155029297, 'test_err': 39.03129959106445}\n",
      "{'epoch': 4000, 'train_loss': 0.02780069410800934, 'train_err': 33.525794982910156, 'test_err': 38.94220733642578}\n",
      "{'epoch': 4100, 'train_loss': 0.028446106240153313, 'train_err': 34.06764221191406, 'test_err': 39.37197494506836}\n",
      "{'epoch': 4200, 'train_loss': 0.02766330912709236, 'train_err': 33.41665267944336, 'test_err': 38.84930419921875}\n",
      "{'epoch': 4300, 'train_loss': 0.02752462960779667, 'train_err': 33.32886505126953, 'test_err': 38.77152633666992}\n",
      "{'epoch': 4400, 'train_loss': 0.02741476148366928, 'train_err': 33.2480354309082, 'test_err': 38.69784164428711}\n",
      "{'epoch': 4500, 'train_loss': 0.027325140312314034, 'train_err': 33.189571380615234, 'test_err': 38.642391204833984}\n",
      "{'epoch': 4600, 'train_loss': 0.02724033035337925, 'train_err': 33.12577438354492, 'test_err': 38.58332061767578}\n",
      "{'epoch': 4700, 'train_loss': 0.027186857536435127, 'train_err': 33.14354705810547, 'test_err': 38.59587478637695}\n",
      "{'epoch': 4800, 'train_loss': 0.027787117287516594, 'train_err': 33.427635192871094, 'test_err': 38.828094482421875}\n",
      "{'epoch': 4900, 'train_loss': 0.027118895202875137, 'train_err': 33.047576904296875, 'test_err': 38.51108169555664}\n",
      "{'epoch': 5000, 'train_loss': 0.02697957120835781, 'train_err': 32.9141960144043, 'test_err': 38.39037322998047}\n",
      "{'epoch': 5100, 'train_loss': 0.026889702305197716, 'train_err': 32.8944206237793, 'test_err': 38.38875961303711}\n",
      "{'epoch': 5200, 'train_loss': 0.026902053505182266, 'train_err': 32.85087585449219, 'test_err': 38.330467224121094}\n",
      "{'epoch': 5300, 'train_loss': 0.02675941213965416, 'train_err': 32.76274871826172, 'test_err': 38.2562370300293}\n",
      "{'epoch': 5400, 'train_loss': 0.028213873505592346, 'train_err': 33.18878936767578, 'test_err': 38.616024017333984}\n",
      "{'epoch': 5500, 'train_loss': 0.02660216949880123, 'train_err': 32.698585510253906, 'test_err': 38.20048141479492}\n",
      "{'epoch': 5600, 'train_loss': 0.026543933898210526, 'train_err': 32.63549041748047, 'test_err': 38.13756561279297}\n",
      "{'epoch': 5700, 'train_loss': 0.026480454951524734, 'train_err': 32.60102844238281, 'test_err': 38.11431121826172}\n",
      "{'epoch': 5800, 'train_loss': 0.026439417153596878, 'train_err': 32.568058013916016, 'test_err': 38.08430480957031}\n",
      "{'epoch': 5900, 'train_loss': 0.026423845440149307, 'train_err': 32.542118072509766, 'test_err': 38.05533218383789}\n",
      "{'epoch': 6000, 'train_loss': 0.026596173644065857, 'train_err': 32.62358093261719, 'test_err': 38.124637603759766}\n",
      "{'epoch': 6100, 'train_loss': 0.026264233514666557, 'train_err': 32.44486618041992, 'test_err': 37.97691345214844}\n",
      "{'epoch': 6200, 'train_loss': 0.02635922282934189, 'train_err': 32.4476203918457, 'test_err': 37.97547149658203}\n",
      "{'epoch': 6300, 'train_loss': 0.026125846430659294, 'train_err': 32.34707260131836, 'test_err': 37.89265060424805}\n",
      "{'epoch': 6400, 'train_loss': 0.026524417102336884, 'train_err': 32.607765197753906, 'test_err': 38.08989334106445}\n",
      "{'epoch': 6500, 'train_loss': 0.02602485939860344, 'train_err': 32.27366256713867, 'test_err': 37.82877731323242}\n",
      "{'epoch': 6600, 'train_loss': 0.025966893881559372, 'train_err': 32.22188186645508, 'test_err': 37.78256607055664}\n",
      "{'epoch': 6700, 'train_loss': 0.02607235498726368, 'train_err': 32.33441925048828, 'test_err': 37.87886047363281}\n",
      "{'epoch': 6800, 'train_loss': 0.026182405650615692, 'train_err': 32.3844108581543, 'test_err': 37.91380310058594}\n",
      "{'epoch': 6900, 'train_loss': 0.02609707973897457, 'train_err': 32.242210388183594, 'test_err': 37.805686950683594}\n",
      "{'epoch': 7000, 'train_loss': 0.025888187810778618, 'train_err': 32.126773834228516, 'test_err': 37.710350036621094}\n",
      "{'epoch': 7100, 'train_loss': 0.025937458500266075, 'train_err': 32.14219284057617, 'test_err': 37.71504592895508}\n",
      "{'epoch': 7200, 'train_loss': 0.025830689817667007, 'train_err': 32.078086853027344, 'test_err': 37.66831588745117}\n",
      "{'epoch': 7300, 'train_loss': 0.025793930515646935, 'train_err': 32.138797760009766, 'test_err': 37.714351654052734}\n",
      "{'epoch': 7400, 'train_loss': 0.0256069153547287, 'train_err': 31.959516525268555, 'test_err': 37.577144622802734}\n",
      "{'epoch': 7500, 'train_loss': 0.026390032842755318, 'train_err': 32.45974349975586, 'test_err': 37.98873519897461}\n",
      "{'epoch': 7600, 'train_loss': 0.025592580437660217, 'train_err': 31.924434661865234, 'test_err': 37.5498161315918}\n",
      "{'epoch': 7700, 'train_loss': 0.02547278255224228, 'train_err': 31.85257911682129, 'test_err': 37.4937744140625}\n",
      "{'epoch': 7800, 'train_loss': 0.02574216201901436, 'train_err': 32.01333999633789, 'test_err': 37.61684036254883}\n",
      "{'epoch': 7900, 'train_loss': 0.025415875017642975, 'train_err': 31.826505661010742, 'test_err': 37.48823165893555}\n",
      "{'epoch': 8000, 'train_loss': 0.025351570919156075, 'train_err': 31.759849548339844, 'test_err': 37.424949645996094}\n",
      "{'epoch': 8100, 'train_loss': 0.02544056996703148, 'train_err': 31.8150577545166, 'test_err': 37.477882385253906}\n",
      "{'epoch': 8200, 'train_loss': 0.02565518021583557, 'train_err': 31.919607162475586, 'test_err': 37.553951263427734}\n",
      "{'epoch': 8300, 'train_loss': 0.02581905573606491, 'train_err': 32.18600845336914, 'test_err': 37.78514099121094}\n",
      "{'epoch': 8400, 'train_loss': 0.025274094194173813, 'train_err': 31.69191551208496, 'test_err': 37.38359451293945}\n",
      "{'epoch': 8500, 'train_loss': 0.025170844048261642, 'train_err': 31.62052345275879, 'test_err': 37.32312774658203}\n",
      "{'epoch': 8600, 'train_loss': 0.025166314095258713, 'train_err': 31.634050369262695, 'test_err': 37.33612823486328}\n",
      "{'epoch': 8700, 'train_loss': 0.0254264697432518, 'train_err': 31.840213775634766, 'test_err': 37.51301193237305}\n",
      "{'epoch': 8800, 'train_loss': 0.025154082104563713, 'train_err': 31.59674644470215, 'test_err': 37.31793212890625}\n",
      "{'epoch': 8900, 'train_loss': 0.025045765563845634, 'train_err': 31.53305435180664, 'test_err': 37.265316009521484}\n",
      "{'epoch': 9000, 'train_loss': 0.025097617879509926, 'train_err': 31.601646423339844, 'test_err': 37.32517623901367}\n",
      "{'epoch': 9100, 'train_loss': 0.025420984253287315, 'train_err': 31.688222885131836, 'test_err': 37.40216064453125}\n",
      "{'epoch': 9200, 'train_loss': 0.02495558373630047, 'train_err': 31.45439338684082, 'test_err': 37.20817947387695}\n",
      "{'epoch': 9300, 'train_loss': 0.02494696155190468, 'train_err': 31.450122833251953, 'test_err': 37.202457427978516}\n",
      "{'epoch': 9400, 'train_loss': 0.024977808818221092, 'train_err': 31.43071746826172, 'test_err': 37.19664764404297}\n",
      "{'epoch': 9500, 'train_loss': 0.027847597375512123, 'train_err': 32.61579132080078, 'test_err': 38.1535530090332}\n",
      "{'epoch': 9600, 'train_loss': 0.025551604107022285, 'train_err': 32.09026336669922, 'test_err': 37.739627838134766}\n",
      "{'epoch': 9700, 'train_loss': 0.025082994252443314, 'train_err': 31.425914764404297, 'test_err': 37.199466705322266}\n",
      "{'epoch': 9800, 'train_loss': 0.02479708567261696, 'train_err': 31.32799530029297, 'test_err': 37.11612319946289}\n",
      "{'epoch': 9900, 'train_loss': 0.024790706112980843, 'train_err': 31.305259704589844, 'test_err': 37.09981918334961}\n"
     ]
    }
   ],
   "source": [
    "trainer_config = {\"epochs\": 10000, \"params\": {\"learning_rate\": 1e-3}}\n",
    "optim = optax.adam(**trainer_config[\"params\"])\n",
    "model = fit(trainer_config, optim, model, prism_data, test_data, every=100)"
   ]
  },
  {
   "cell_type": "code",
   "execution_count": null,
   "metadata": {},
   "outputs": [],
   "source": [
    "import numpy as np\n",
    "\n",
    "idx = 20\n",
    "\n",
    "m, r0 = jnp.split(sources[idx][0], 2, axis=-1)\n",
    "x, y, z = jnp.meshgrid(row, row, jnp.linspace(0, 0, 1))\n",
    "x0, y0, z0 = r0\n",
    "\n",
    "potential_slice = potential[idx].reshape(res, res, res)[..., res // 2]\n",
    "field_slice = field[idx].reshape(res, res, res, 3)[..., res // 2, :]\n",
    "\n",
    "with plt.style.context(\"science\"):\n",
    "    fig, (ax1, ax2) = plt.subplots(1, 2, figsize=(10, 5))\n",
    "\n",
    "    # Subplot 1: Contour plot of potential\n",
    "    ax1.contourf(x[..., 0], y[..., 0], potential_slice, levels=50, cmap=\"viridis\")\n",
    "    ax1.set_title(\"Magnetic Scalar Potential\")\n",
    "\n",
    "    # Draw red square\n",
    "    square = patches.Rectangle(\n",
    "        (x0 - 1, y0 - 1),\n",
    "        2,\n",
    "        2,\n",
    "        linewidth=1,\n",
    "        edgecolor=\"r\",\n",
    "        facecolor=\"none\",\n",
    "        linestyle=\"--\",\n",
    "    )\n",
    "    ax1.add_patch(square)\n",
    "    ax1.arrow(x0, y0, m[0], m[1], head_width=0.15, head_length=0.15, fc=\"r\", ec=\"r\")\n",
    "\n",
    "    # Subplot 2: Streamplot of field\n",
    "    nx = np.array(x[..., 0])\n",
    "    ny = np.array(y[..., 0])\n",
    "    Bx = np.array(field_slice[..., 0])\n",
    "    By = np.array(field_slice[..., 1])\n",
    "    ax2.streamplot(nx, ny, Bx, By, color=\"k\", density=1.5)\n",
    "    ax2.set_title(\"Magnetic Field $\\mathbf{H}$\")\n",
    "\n",
    "    plt.tight_layout()\n",
    "    plt.show()"
   ]
  },
  {
   "cell_type": "code",
   "execution_count": null,
   "metadata": {},
   "outputs": [],
   "source": []
  }
 ],
 "metadata": {
  "kernelspec": {
   "display_name": "magstatics-learning-arm",
   "language": "python",
   "name": "python3"
  },
  "language_info": {
   "codemirror_mode": {
    "name": "ipython",
    "version": 3
   },
   "file_extension": ".py",
   "mimetype": "text/x-python",
   "name": "python",
   "nbconvert_exporter": "python",
   "pygments_lexer": "ipython3",
   "version": "3.9.19"
  },
  "orig_nbformat": 4
 },
 "nbformat": 4,
 "nbformat_minor": 2
}
